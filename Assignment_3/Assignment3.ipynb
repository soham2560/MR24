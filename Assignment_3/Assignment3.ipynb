{
 "cells": [
  {
   "cell_type": "markdown",
   "metadata": {},
   "source": [
    "# Task 1 : Extrinsic Estimation (20 Points)\n",
    "\n",
    "You are given 5 images in the `data/Images` folder, and their corresponding 2d-3d correspondences in `data/Correspondences`. Use this information with the Ceres Solver to optimize for the extrinsic of each image using Reprojection Loss.\n",
    "\n",
    "### Camera Intrinsics:\n",
    "`fx` = `fy` = 721.5\n",
    " \n",
    "`cx` and `cy` : $\\frac{width}{2}$ and $\\frac{height}{2}$\n",
    "\n",
    "### Format for Correspondences:\n",
    "`px py X Y Z i`\n",
    "where: `p_x` and `p_y` are the 2d image coordinates, and `X`, `Y` and `Z` are the coordinates of the 3d correspondence for the 2d coordinate, and `i` is the 3d point's index in the pointcloud (you can ignore i, just use the rest of the information as is).\n",
    "\n",
    "\n",
    "### Resources:\n",
    "http://ceres-solver.org/nnls_solving.html <br>\n",
    "http://ceres-solver.org/nnls_modeling.html <br>\n",
    "http://ceres-solver.org/nnls_tutorial.html <br>"
   ]
  },
  {
   "cell_type": "code",
   "execution_count": 1,
   "metadata": {},
   "outputs": [],
   "source": [
    "## code here"
   ]
  },
  {
   "cell_type": "markdown",
   "metadata": {},
   "source": [
    "# Task 2 : Two-View Geometry Task (35 Points)\n",
    "\n",
    "### Note:  Use images in folder data_Q2  and the file `data_Q2/intrinsics.txt` has camera intrinsics \n",
    "### Don't use Opencv functions unless explicitly mentioned. \n",
    "\n",
    "<img src=\"data_Q2/first_img.jpg\" alt=\"image 1\" width=\"400\"/>\n",
    "<img src=\"data_Q2/second_img.jpg\" alt=\"image 2\" width=\"400\"/>\n",
    "\n",
    "### 1. Feature Extraction and Matching\n",
    "   **Implement a function to detect and match feature points between two images using OpenCV's SIFT or ORB.**  \n",
    "   Visualize the matched points and filter outliers using RANSAC. \n",
    "   \n",
    "   Theory : How do you ensure that the matches are accurate, and what thresholding techniques do you apply?\n",
    "\n",
    "### 2. Fundamental Matrix Estimation\n",
    "   **Write a function `compute_fundamental_matrix` to estimate the fundamental matrix using the 8-point algorithm.**  \n",
    "   Normalize the points before estimating and check the rank of the matrix. Explain why normalization is essential in this context.\n",
    "   \n",
    "   Extend this to include the 7-point algorithm, and compare the accuracy of the two methods on your matched points.\n",
    "\n",
    "### 3. Epipolar Lines Visualization\n",
    "   **Write a function to plot epipolar lines on both images given the estimated fundamental matrix.**  \n",
    "   For each matched feature in the first image, compute and draw the corresponding epipolar line in the second image.\n",
    "\n",
    "   Theory (not part of bonus) : What methods can you use to verify that the epipolar lines are accurate?\n",
    "\n",
    "### 4. Epipole Computation\n",
    "   **Implement a function to calculate the epipoles from the fundamental matrix.**  \n",
    "   Verify their correctness by showing that epipolar lines intersect at these points.\n",
    "\n",
    "   Theory : What happens to the epipole location if the fundamental matrix is rank-deficient, and how can you simulate this scenario?\n",
    "\n",
    "### 5. Camera Pose from Fundamental Matrix\n",
    "   **Write a function `camera_pose_from_fundamental` to compute the four possible camera poses (rotation `R` and translation `t`) from the fundamental matrix and intrinsic matrix `K`.**\n",
    "\n",
    "   Theory (not part of bonus) : Explain why there are four possible solutions and how to verify which is the correct one.\n",
    "\n",
    "### 6. Triangulation of 3D Points\n",
    "   **Implement linear triangulation in a function `linear_triangulation` that takes the projection matrices and point correspondences to compute 3D points.**\n",
    "\n",
    "   Visualize the triangulated points in 3D and describe how the accuracy of 3D points depends on the quality of the fundamental matrix and camera pose.\n",
    "\n",
    "### 7. Cheirality Condition\n",
    "   **Write a function `check_cheirality` to ensure that the triangulated 3D points satisfy the cheirality condition for a given camera pose.**\n",
    "\n",
    "   Use this function to select the correct camera pose among the four possibilities by maximizing the number of points that satisfy the cheirality condition.\n",
    "\n",
    "\n",
    "### 8. Fundamental Matrix Validation\n",
    "   **Write a function `validate_fundamental_matrix` to validate the estimated fundamental matrix by checking the epipolar constraint for a set of matched points.**  \n",
    "   Calculate the residual error for each point pair and analyze the overall error.\n",
    "\n",
    "   Theory : What threshold should you use to determine if a point satisfies the constraint?\n",
    "\n",
    "### 9. Camera Pose Visualization\n",
    "   **Use a 3D plotting library to visualize the computed camera poses and triangulated points in 3D space.**  \n",
    "   Write a function that takes in camera poses and 3D points and plots them.\n",
    "\n",
    "   Experiment with different camera poses and triangulated points to observe how pose selection affects the scene structure.\n",
    "\n",
    "### 10. Error Analysis for Two-view Geometry\n",
    "   **Implement a function to calculate and plot the reprojection error for triangulated 3D points.**  \n",
    "   Measure the difference between original 2D points and the reprojected points on both images.\n",
    "\n",
    "   Theory : How does this error analysis help in refining the camera pose selection?\n",
    "\n",
    "\n",
    "### Bonus : All theory questions are part of bonus unless mentioned explicitly. (15 Points)"
   ]
  },
  {
   "cell_type": "code",
   "execution_count": 2,
   "metadata": {},
   "outputs": [],
   "source": [
    "## code here"
   ]
  },
  {
   "cell_type": "markdown",
   "metadata": {},
   "source": []
  }
 ],
 "metadata": {
  "kernelspec": {
   "display_name": "Python 3 (ipykernel)",
   "language": "python",
   "name": "python3"
  },
  "language_info": {
   "codemirror_mode": {
    "name": "ipython",
    "version": 3
   },
   "file_extension": ".py",
   "mimetype": "text/x-python",
   "name": "python",
   "nbconvert_exporter": "python",
   "pygments_lexer": "ipython3",
   "version": "3.12.3"
  }
 },
 "nbformat": 4,
 "nbformat_minor": 2
}
