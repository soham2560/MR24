{
 "cells": [
  {
   "cell_type": "markdown",
   "metadata": {},
   "source": [
    "# Assignment 2"
   ]
  },
  {
   "cell_type": "markdown",
   "metadata": {},
   "source": [
    "## Roll number: "
   ]
  },
  {
   "cell_type": "markdown",
   "metadata": {},
   "source": [
    "\n",
    "### Instructions\n",
    " * Fill in the roll-number in the cell above.\n",
    " * Code must be submitted in Python in jupyter notebooks. We highly recommend using anaconda/miniconda distribution or at the minimum, virtual environments for this assignment.\n",
    " * All the code and result files should be uploaded in the github classroom.\n",
    " *  Most of the questions require you to **code your own functions** unless there is a need to call in the abilities of the mentioned libraries, such as Visualisation from Open3D. Make sure your code is modular since you will be reusing them for future assignments. All the functions related to transformation matrices, quaternions, and 3D projection are expected to be coded by you.\n",
    " *  All the representations are expected to be in a right-hand coordinate system.\n",
    "<!--  * Answer to the descriptive questions should be answered in your own words. Copy-paste answers will lead to penalty. -->\n",
    " * You could split the Jupyter Notebook cells where TODO is written, but please try to avoid splitting/changing the structure of other cells.\n",
    " * All the visualization should be done inside the notebook unless specified otherwise.\n",
    " * Plagiarism will lead to heavy penalty.\n",
    " * Commit the notebooks in the repo and any other results files under the result folder in the GitHub Classroom repo. \n",
    " * This is a group assignment. Discussions are encouraged but any sharing of code among different teams will be penalized. "
   ]
  },
  {
   "cell_type": "markdown",
   "metadata": {},
   "source": [
    "## SECTION 1: ICP with SVD"
   ]
  },
  {
   "cell_type": "markdown",
   "metadata": {},
   "source": [
    "### 1.1 Perform Procrustes alignmenton two point clouds with (given) known correspondences. (5 Points)"
   ]
  },
  {
   "cell_type": "markdown",
   "metadata": {},
   "source": [
    "Let X be your point cloud observed from the initial pose P1. You then transform it to a new pose P2. Now you wish to apply ICP to recover transformation between (X & P1) and (X & P2).\n",
    "\n",
    "Use toothless.ply point cloud and perform the alignment between the two point clouds using procrustes alignment. Your task is to write a function that takes two point clouds as input wherein the corresponding points between the two point clouds are located at the same index and returns the transformation matrix between them. Compute the alignment error after aligning the two point clouds.\n",
    "\n",
    "<b>Use root mean squared error (RSME) as the alignment error metric.</b>\n",
    "\n",
    "Make sure your code is modular as we will use this function in the next sub-part."
   ]
  },
  {
   "cell_type": "markdown",
   "metadata": {},
   "source": [
    "We will again use our own getTransform function to generate the 4x4 Transformation matrix to transform the pointcloud to P2, so make sure your code works for any general Transformation matrix"
   ]
  },
  {
   "cell_type": "code",
   "execution_count": 1,
   "metadata": {},
   "outputs": [],
   "source": [
    "import numpy as np\n",
    "import math\n",
    "\n",
    "def alpha_rot(alpha):\n",
    "    return np.array([\n",
    "        [   1.0,    0.0,                0.0             ],\n",
    "        [   0.0,    math.cos(alpha),   -math.sin(alpha) ],\n",
    "        [   0.0,    math.sin(alpha),    math.cos(alpha) ]\n",
    "        ],dtype=np.float32)\n",
    "\n",
    "def beta_rot(beta):\n",
    "    return np.array([\n",
    "        [   math.cos(beta),     0.0,    math.sin(beta)  ],\n",
    "        [   0.0,                1.0,    0.0             ],\n",
    "        [  -math.sin(beta),     0.0,    math.cos(beta)  ]\n",
    "        ],dtype=np.float32)\n",
    "\n",
    "def gamma_rot(gamma):\n",
    "    return np.array([\n",
    "        [   math.cos(gamma),   -math.sin(gamma),    0.0 ],\n",
    "        [   math.sin(gamma),    math.cos(gamma),    0.0 ],\n",
    "        [   0.0,                0.0,                1.0 ]\n",
    "        ],dtype=np.float32)\n",
    "        \n",
    "def euler2rm(alpha, beta, gamma):\n",
    "    return np.matmul(alpha_rot(alpha),np.matmul(beta_rot(beta),gamma_rot(gamma)))\n",
    "\n",
    "def getTransform():\n",
    "    # Random rotation matrices for X, Y, and Z axes\n",
    "    R = euler2rm(np.random.uniform(0, 2 * np.pi),\n",
    "                 np.random.uniform(0, 2 * np.pi),\n",
    "                 np.random.uniform(0, 2 * np.pi))\n",
    "    \n",
    "    # Random translation matrix\n",
    "    T = np.array([\n",
    "        [np.random.uniform(-500, 500)],\n",
    "        [np.random.uniform(-500, 500)],\n",
    "        [np.random.uniform(-500, 500)]\n",
    "    ])\n",
    "    \n",
    "    transformation_matrix = np.eye(4)\n",
    "    transformation_matrix[:3, :3] = R\n",
    "    transformation_matrix[:3, 3] = T.flatten()\n",
    "    \n",
    "    return transformation_matrix"
   ]
  },
  {
   "cell_type": "code",
   "execution_count": 2,
   "metadata": {},
   "outputs": [],
   "source": [
    "T = getTransform()\n",
    "def icp_known_correspondences(T):\n",
    "    #### YOUR CODE HERE ####\n",
    "    pass"
   ]
  },
  {
   "cell_type": "markdown",
   "metadata": {},
   "source": [
    "### 1.2 Implement ICP algorithm with unknown correspondences. (5 Points)"
   ]
  },
  {
   "cell_type": "markdown",
   "metadata": {},
   "source": [
    "Your task is to write a function that implements ICP and takes two point clouds as input wherein the correspondances are unknown. Visualize the pointclouds and plot their individual coordinate frames as you perform ICP over them. Compute the alignment error in each iteration. \n",
    "\n",
    "Refer to Shubodh's notes to compute correspondences: https://saishubodh.notion.site/Mobile-Robotics-Navigating-from-Theory-to-Application-0b65a9c20edd4081978f4ffad917febb?p=a25686ce1a11409d838d47bcac43ab4b&pm=s#bb9aaf2e316b4db3b399df1742f0444c\n"
   ]
  },
  {
   "cell_type": "code",
   "execution_count": 3,
   "metadata": {},
   "outputs": [],
   "source": [
    "P = getTransform()\n",
    "Q = getTransform()\n",
    "\n",
    "def icp_unknown_correspondences(P, Q):\n",
    "    #### YOUR CODE HERE ####\n",
    "    pass"
   ]
  },
  {
   "cell_type": "markdown",
   "metadata": {},
   "source": [
    "## SECTION 2: ICP with Lie Groups"
   ]
  },
  {
   "cell_type": "markdown",
   "metadata": {},
   "source": [
    "### 2.1 Predict the Transformation matrix between 2 point clouds with known correspondences (15 Points)\n",
    "Perform the same task as 1.1 using Lie Group Optimization from scratch to predict the transformation between the 2 point clouds.\n",
    "\n",
    "Refer: https://saishubodh.notion.site/Mobile-Robotics-Navigating-from-Theory-to-Application-0b65a9c20edd4081978f4ffad917febb?p=ee55fe5689794693910ab7861bef067b&pm=s#7b82d84766a84b63b91d859579e4886b\n"
   ]
  },
  {
   "cell_type": "code",
   "execution_count": 10,
   "metadata": {},
   "outputs": [
    {
     "name": "stderr",
     "output_type": "stream",
     "text": [
      "/tmp/ipykernel_193057/3066014773.py:54: RuntimeWarning: invalid value encountered in divide\n",
      "  axis = w/theta\n"
     ]
    },
    {
     "name": "stdout",
     "output_type": "stream",
     "text": [
      "Trasform 0:\n",
      "[[-2.22306699e-02  6.69047713e-01  7.42886901e-01 -2.68954205e+02]\n",
      " [-9.99182224e-01 -3.99697758e-02  6.09675096e-03 -1.66235245e+02]\n",
      " [ 3.37720402e-02 -7.42143869e-01  6.69389188e-01  4.90166577e+02]\n",
      " [ 0.00000000e+00  0.00000000e+00  0.00000000e+00  1.00000000e+00]]\n",
      "Trasform 1:\n",
      "[[   0.77726167   -0.59407151    0.20722769 -106.45002932]\n",
      " [   0.5156008     0.79017222    0.33133626  -54.60717063]\n",
      " [  -0.36058301   -0.15068822    0.92047435   78.56881938]\n",
      " [   0.            0.            0.            1.        ]]\n",
      "Initial Transformation Guess:\n",
      "[[1. 0. 0. 0.]\n",
      " [0. 1. 0. 0.]\n",
      " [0. 0. 1. 0.]\n",
      " [0. 0. 0. 1.]]\n",
      "Initial Learning Rate: 0.09\n",
      "Decay Rate: 0.985\n",
      "Minimum Learning Rate: 0.01\n",
      "Converged\n",
      "Expected transformation matrix:\n",
      "[[  -0.26    0.76    0.59 -301.47]\n",
      " [  -0.75   -0.54    0.37 -305.21]\n",
      " [   0.61   -0.35    0.72  479.46]\n",
      " [   0.      0.      0.      1.  ]]\n",
      "Final transformation matrix:\n",
      "[[  -0.26    0.76    0.59 -302.04]\n",
      " [  -0.75   -0.54    0.37 -309.25]\n",
      " [   0.61   -0.35    0.71  479.96]\n",
      " [   0.      0.      0.      1.  ]]\n"
     ]
    }
   ],
   "source": [
    "import numpy as np\n",
    "import open3d as o3d\n",
    "import time\n",
    "\n",
    "def skew(vector):\n",
    "    x, y, z = vector.ravel()\n",
    "    \n",
    "    return np.array([\n",
    "        [ 0, -z,  y],\n",
    "        [ z,  0, -x],\n",
    "        [-y,  x,  0]\n",
    "    ])\n",
    "\n",
    "def invert_transform(matrix):\n",
    "    rotation_matrix = matrix[:3, :3]\n",
    "    translation_vector = matrix[:3, 3]\n",
    "\n",
    "    inv_rotation_matrix = np.transpose(rotation_matrix)\n",
    "    inv_translation_vector = -np.matmul(inv_rotation_matrix, translation_vector)\n",
    "\n",
    "    inv_matrix = np.eye(4)\n",
    "    inv_matrix[:3, :3] = inv_rotation_matrix\n",
    "    inv_matrix[:3, 3] = inv_translation_vector\n",
    "    \n",
    "    return inv_matrix\n",
    "\n",
    "def transform_point_cloud(point_cloud, transformation_matrix, downsample=1.0):\n",
    "    if downsample < 1.0:\n",
    "        indices = np.arange(0, point_cloud.shape[0], int(1.0 / downsample))\n",
    "        point_cloud = point_cloud[indices]\n",
    "\n",
    "    rotated_points = np.dot(point_cloud, transformation_matrix[:3, :3].T)\n",
    "    transformed_points = rotated_points + transformation_matrix[:3, 3]\n",
    "\n",
    "    return transformed_points\n",
    "\n",
    "def icp_with_lie(pcl0, pcl1, guess_transform, learning_rate):\n",
    "    pcl1_transformed = transform_point_cloud(pcl1, guess_transform)\n",
    "    \n",
    "    residuals = (pcl1_transformed - pcl0).reshape(-1,1)\n",
    "\n",
    "    jacobian = np.zeros((pcl1.shape[0] * 3, 6))\n",
    "\n",
    "    for j in range(pcl1_transformed.shape[0]):\n",
    "        jacobian[3 * j: 3 * j + 3, 0:3] = np.eye(3)\n",
    "        jacobian[3 * j: 3 * j + 3, 3:6] = -skew(transform_point_cloud(pcl1[j],guess_transform))\n",
    "    delta_x = -learning_rate * (np.linalg.pinv(jacobian.T @ jacobian) @ jacobian.T @ residuals)\n",
    "    return delta_x, residuals\n",
    "\n",
    "def se3_exp(xi):\n",
    "    w = xi[3:].reshape(1, -1)\n",
    "    v = xi[:3]\n",
    "    theta = np.linalg.norm(w)\n",
    "    axis = w/theta\n",
    "    skew_axis = skew(axis)\n",
    "    if theta < 1e-6:\n",
    "        R = np.eye(3)\n",
    "        J = np.eye(3)\n",
    "    else:\n",
    "        R = ((1-np.cos(theta))*(skew_axis@skew_axis)) + np.eye(3) + (np.sin(theta)*skew_axis)\n",
    "        J = (((np.sin(theta)/theta))*np.eye(3)) + ((1-(np.sin(theta)/theta))*(axis.T@axis)) + (((1-np.cos(theta))/theta)*skew_axis)\n",
    "\n",
    "    T = np.eye(4)\n",
    "    T[:3, :3] = R\n",
    "    T[:3, 3] = (J @ v).flatten()\n",
    "    return T\n",
    "\n",
    "pcl = o3d.io.read_point_cloud('data/toothless.ply')\n",
    "pcl_array = np.array(pcl.points)\n",
    "\n",
    "transform0 = getTransform()\n",
    "transform1 = getTransform()\n",
    "\n",
    "downsample = 0.001\n",
    "\n",
    "pcl0 = transform_point_cloud(pcl_array, transform0, downsample)\n",
    "pcl1 = transform_point_cloud(pcl_array + np.random.normal(0.0, 0, pcl_array.shape), transform1, downsample)\n",
    "\n",
    "pcl0_geom = o3d.geometry.PointCloud(o3d.utility.Vector3dVector(pcl0))\n",
    "frame0 = o3d.geometry.TriangleMesh.create_coordinate_frame(size=100.0, origin=[0, 0, 0])\n",
    "pcl0_geom.paint_uniform_color([1.0, 0.0, 0.0])\n",
    "pcl1_geom = o3d.geometry.PointCloud(o3d.utility.Vector3dVector(pcl1))\n",
    "frame1 = o3d.geometry.TriangleMesh.create_coordinate_frame(size=100.0, origin=[0, 0, 0])\n",
    "pcl1_geom.paint_uniform_color([0.0, 0.0, 1.0])\n",
    "\n",
    "vis = o3d.visualization.Visualizer()\n",
    "vis.create_window()\n",
    "\n",
    "vis.add_geometry(pcl0_geom)\n",
    "vis.add_geometry(frame0)\n",
    "vis.add_geometry(pcl1_geom)\n",
    "vis.add_geometry(frame1)\n",
    "\n",
    "vis.poll_events()\n",
    "vis.update_renderer()\n",
    "\n",
    "initial_learning_rate = 9e-2\n",
    "decay_rate = 0.985\n",
    "min_learning_rate = 1e-2\n",
    "\n",
    "opti_epsilon = np.random.uniform(0,0,(6, 1))\n",
    "opti_epsilon[3] = 0\n",
    "opti_epsilon[4] = 0\n",
    "opti_epsilon[5] = 0\n",
    "opti_transform = se3_exp(opti_epsilon)\n",
    "\n",
    "print(\"Trasform 0:\")\n",
    "print(transform0)\n",
    "print(\"Trasform 1:\")\n",
    "print(transform1)\n",
    "print(\"Initial Transformation Guess:\")\n",
    "print(opti_transform)\n",
    "print(f\"Initial Learning Rate: {initial_learning_rate}\")\n",
    "print(f\"Decay Rate: {decay_rate}\")\n",
    "print(f\"Minimum Learning Rate: {min_learning_rate}\")\n",
    "\n",
    "for i in range(4000):\n",
    "    current_learning_rate = max(initial_learning_rate * (decay_rate ** i), min_learning_rate)\n",
    "    delta_epsilon, curr_residuals = icp_with_lie(pcl0, pcl1, opti_transform, current_learning_rate)\n",
    "    opti_epsilon += delta_epsilon\n",
    "    opti_transform = se3_exp(opti_epsilon)\n",
    "    pcl1_geom.points = o3d.utility.Vector3dVector(transform_point_cloud(pcl1,opti_transform))\n",
    "    frame1.vertices = o3d.utility.Vector3dVector(transform_point_cloud(np.array(frame0.vertices),opti_transform))\n",
    "    vis.update_geometry(pcl1_geom)\n",
    "    vis.update_geometry(frame1)\n",
    "    vis.poll_events()\n",
    "    vis.update_renderer()\n",
    "    if np.linalg.norm(curr_residuals)/curr_residuals.shape[0] < 9e-2:\n",
    "        pcl0_geom.paint_uniform_color([0.0, 1.0, 0.0])\n",
    "        pcl1_geom.paint_uniform_color([0.0, 1.0, 0.0])\n",
    "        vis.update_geometry(pcl0_geom)\n",
    "        vis.update_geometry(pcl1_geom)\n",
    "        vis.update_geometry(frame1)\n",
    "        vis.poll_events()\n",
    "        vis.update_renderer()\n",
    "        print(\"Converged\")\n",
    "        print(\"Expected transformation matrix:\")\n",
    "        print(np.array_str(transform0 @ invert_transform(transform1), precision=2, suppress_small=True))\n",
    "        print(\"Final transformation matrix:\")\n",
    "        print(np.array_str(opti_transform, precision=2, suppress_small=True))\n",
    "        break\n",
    "\n",
    "if np.linalg.norm(curr_residuals)/curr_residuals.shape[0] > 9e-2:\n",
    "    print(\"Failed to converge\")\n",
    "vis.run()\n",
    "vis.destroy_window()"
   ]
  },
  {
   "cell_type": "markdown",
   "metadata": {},
   "source": [
    "## SECTION 3: Pose Graph Optimization with G2O\n",
    "### Objective (5 Points)\n",
    "A robot is travelling in a oval trajectory. It is equipped with wheel odometry for odometry information and RGBD sensors for loop closure information. Due to noise in wheel odometry it generates a noisy estimate of the trajectory. Our task is to use loop closure pairs to correct the drift.\n",
    "\n",
    "We pose this problem as a pose graph optimization problem. In our graph, poses are the vertices and constraints are the edges. \n",
    "\n",
    "References:\n",
    "\n",
    "1.) Class notes: https://saishubodh.notion.site/G2O-Edge-Types-d9f9ff63c77c4ceeb84b1e49085004e3\n",
    "\n",
    "2.) Cyrill Stachniss lecture: https://www.youtube.com/watch?v=uHbRKvD8TWg "
   ]
  },
  {
   "cell_type": "markdown",
   "metadata": {},
   "source": [
    "### Given: \n",
    "In practical scenarios, we'd obtain the following from our sensors after some post-processing:\n",
    "\n",
    "1. Initial position\n",
    "2. Odometry Contraints/Edges: This \"edge\" information tells us relative transformation between two nodes. These two nodes are consecutive in the case of Odometry but not in the case of Loop Closure (next point).\n",
    "3. Loop Closure Contraints/Edges: Remember that while optimizing, you have another kind of \"anchor\" edge as you've seen in 1. solved example.\n",
    "\n",
    "You have been given a text file named `edges.txt` (in `data/`) which has all the above 3 and it follows G2O's format (as explained in class, [link here](https://saishubodh.notion.site/G2O-Edge-Types-d9f9ff63c77c4ceeb84b1e49085004e3) ). The ground truth is `gt.txt`.\n",
    "\n",
    "Install g2o as mentioned in `g2o.ipynb` and optimise `edges.txt`"
   ]
  },
  {
   "cell_type": "code",
   "execution_count": 5,
   "metadata": {},
   "outputs": [],
   "source": [
    "### YOUR CODE HERE ###"
   ]
  },
  {
   "cell_type": "markdown",
   "metadata": {},
   "source": [
    "### Evo (10 Points)\n",
    "We need a measure of how good the trajectory is. The error/loss used earlier doesn't tell us much about how the trajectory differs from the ground truth. Here, we try to do just this - compute error metrics. Rather than computing these from scratch, we will just Evo - https://github.com/MichaelGrupp/evo/.\n",
    "\n",
    "Look at the absolute pose error (APE) and relative pose error (RPE). What do they capture and how are they calculated (descriptive answer)? How do these metrics differ in methodology? Can we determine if the error is more along the x/y axis?\n",
    "\n",
    "Answer the above questions and report errors for the obtained trajectory."
   ]
  },
  {
   "cell_type": "code",
   "execution_count": 6,
   "metadata": {},
   "outputs": [],
   "source": [
    "### YOUR CODE HERE ###"
   ]
  }
 ],
 "metadata": {
  "kernelspec": {
   "display_name": "mapfree",
   "language": "python",
   "name": "python3"
  },
  "language_info": {
   "codemirror_mode": {
    "name": "ipython",
    "version": 3
   },
   "file_extension": ".py",
   "mimetype": "text/x-python",
   "name": "python",
   "nbconvert_exporter": "python",
   "pygments_lexer": "ipython3",
   "version": "3.11.9"
  }
 },
 "nbformat": 4,
 "nbformat_minor": 2
}
