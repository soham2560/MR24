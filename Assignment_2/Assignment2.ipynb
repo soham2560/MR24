{
 "cells": [
  {
   "cell_type": "markdown",
   "metadata": {},
   "source": [
    "# Assignment 2"
   ]
  },
  {
   "cell_type": "markdown",
   "metadata": {},
   "source": [
    "## Roll number: "
   ]
  },
  {
   "cell_type": "markdown",
   "metadata": {},
   "source": [
    "\n",
    "### Instructions\n",
    " * Fill in the roll-number in the cell above.\n",
    " * Code must be submitted in Python in jupyter notebooks. We highly recommend using anaconda/miniconda distribution or at the minimum, virtual environments for this assignment.\n",
    " * All the code and result files should be uploaded in the github classroom.\n",
    " *  Most of the questions require you to **code your own functions** unless there is a need to call in the abilities of the mentioned libraries, such as Visualisation from Open3D. Make sure your code is modular since you will be reusing them for future assignments. All the functions related to transformation matrices, quaternions, and 3D projection are expected to be coded by you.\n",
    " *  All the representations are expected to be in a right-hand coordinate system.\n",
    "<!--  * Answer to the descriptive questions should be answered in your own words. Copy-paste answers will lead to penalty. -->\n",
    " * You could split the Jupyter Notebook cells where TODO is written, but please try to avoid splitting/changing the structure of other cells.\n",
    " * All the visualization should be done inside the notebook unless specified otherwise.\n",
    " * Plagiarism will lead to heavy penalty.\n",
    " * Commit the notebooks in the repo and any other results files under the result folder in the GitHub Classroom repo. \n",
    " * This is a group assignment. Discussions are encouraged but any sharing of code among different teams will be penalized. "
   ]
  },
  {
   "cell_type": "code",
   "execution_count": 1,
   "metadata": {},
   "outputs": [
    {
     "name": "stdout",
     "output_type": "stream",
     "text": [
      "Jupyter environment detected. Enabling Open3D WebVisualizer.\n",
      "[Open3D INFO] WebRTC GUI backend enabled.\n",
      "[Open3D INFO] WebRTCWindowSystem: HTTP handshake server disabled.\n"
     ]
    }
   ],
   "source": [
    "import os\n",
    "import time\n",
    "import numpy as np\n",
    "import open3d as o3d\n",
    "import math\n",
    "import cv2\n",
    "import matplotlib.pyplot as plt\n",
    "\n",
    "from scipy.spatial import cKDTree"
   ]
  },
  {
   "cell_type": "markdown",
   "metadata": {},
   "source": [
    "## SECTION 1: ICP with SVD"
   ]
  },
  {
   "cell_type": "markdown",
   "metadata": {},
   "source": [
    "### 1.1 Perform Procrustes alignmenton two point clouds with (given) known correspondences. (5 Points)"
   ]
  },
  {
   "cell_type": "markdown",
   "metadata": {},
   "source": [
    "Let X be your point cloud observed from the initial pose P1. You then transform it to a new pose P2. Now you wish to apply ICP to recover transformation between (X & P1) and (X & P2).\n",
    "\n",
    "Use toothless.ply point cloud and perform the alignment between the two point clouds using procrustes alignment. Your task is to write a function that takes two point clouds as input wherein the corresponding points between the two point clouds are located at the same index and returns the transformation matrix between them. Compute the alignment error after aligning the two point clouds.\n",
    "\n",
    "<b>Use root mean squared error (RSME) as the alignment error metric.</b>\n",
    "\n",
    "Make sure your code is modular as we will use this function in the next sub-part."
   ]
  },
  {
   "cell_type": "markdown",
   "metadata": {},
   "source": [
    "We will again use our own getTransform function to generate the 4x4 Transformation matrix to transform the pointcloud to P2, so make sure your code works for any general Transformation matrix"
   ]
  },
  {
   "cell_type": "code",
   "execution_count": 2,
   "metadata": {},
   "outputs": [],
   "source": [
    "def alpha_rot(alpha):\n",
    "    return np.array([\n",
    "        [   1.0,    0.0,                0.0             ],\n",
    "        [   0.0,    math.cos(alpha),   -math.sin(alpha) ],\n",
    "        [   0.0,    math.sin(alpha),    math.cos(alpha) ]\n",
    "        ],dtype=np.float32)\n",
    "\n",
    "def beta_rot(beta):\n",
    "    return np.array([\n",
    "        [   math.cos(beta),     0.0,    math.sin(beta)  ],\n",
    "        [   0.0,                1.0,    0.0             ],\n",
    "        [  -math.sin(beta),     0.0,    math.cos(beta)  ]\n",
    "        ],dtype=np.float32)\n",
    "\n",
    "def gamma_rot(gamma):\n",
    "    return np.array([\n",
    "        [   math.cos(gamma),   -math.sin(gamma),    0.0 ],\n",
    "        [   math.sin(gamma),    math.cos(gamma),    0.0 ],\n",
    "        [   0.0,                0.0,                1.0 ]\n",
    "        ],dtype=np.float32)\\\n",
    "        \n",
    "def euler2rm(alpha, beta, gamma):\n",
    "    return np.matmul(alpha_rot(alpha),np.matmul(beta_rot(beta),gamma_rot(gamma)))"
   ]
  },
  {
   "cell_type": "code",
   "execution_count": 3,
   "metadata": {},
   "outputs": [],
   "source": [
    "def centre_of_mass_func(points):\n",
    "    return np.mean(points, axis=0)\n",
    "\n",
    "def error(target, predicted, transform_matrix):\n",
    "    return "
   ]
  },
  {
   "cell_type": "code",
   "execution_count": 4,
   "metadata": {},
   "outputs": [],
   "source": [
    "def getTransform():\n",
    "    # Random rotation matrices for X, Y, and Z axes\n",
    "    R = euler2rm(np.random.uniform(0, 2 * np.pi),\n",
    "                 np.random.uniform(0, 2 * np.pi),\n",
    "                 np.random.uniform(0, 2 * np.pi))\n",
    "    \n",
    "    # Random translation matrix\n",
    "    T = np.array([\n",
    "        [np.random.uniform(-500, 500)],\n",
    "        [np.random.uniform(-500, 500)],\n",
    "        [np.random.uniform(-500, 500)]\n",
    "    ])\n",
    "    \n",
    "    transformation_matrix = np.eye(4)\n",
    "    transformation_matrix[:3, :3] = R\n",
    "    transformation_matrix[:3, 3] = T.flatten()\n",
    "    \n",
    "    return transformation_matrix"
   ]
  },
  {
   "cell_type": "code",
   "execution_count": 5,
   "metadata": {},
   "outputs": [
    {
     "name": "stdout",
     "output_type": "stream",
     "text": [
      "Expected Transform:\n",
      "[[  -0.18    0.23    0.96  327.76]\n",
      " [  -0.11    0.96   -0.25  127.6 ]\n",
      " [  -0.98   -0.15   -0.15 -401.84]\n",
      " [   0.      0.      0.      1.  ]]\n",
      "Calculated Transform:\n",
      "[[  -0.18    0.23    0.96  327.76]\n",
      " [  -0.11    0.96   -0.25  127.6 ]\n",
      " [  -0.98   -0.15   -0.15 -401.84]\n",
      " [   0.      0.      0.      1.  ]]\n"
     ]
    }
   ],
   "source": [
    "def invert_transform(matrix):\n",
    "    rotation_matrix = matrix[:3, :3]\n",
    "    translation_vector = matrix[:3, 3]\n",
    "\n",
    "    inv_rotation_matrix = np.transpose(rotation_matrix)\n",
    "    inv_translation_vector = -np.matmul(inv_rotation_matrix, translation_vector)\n",
    "\n",
    "    inv_matrix = np.eye(4)\n",
    "    inv_matrix[:3, :3] = inv_rotation_matrix\n",
    "    inv_matrix[:3, 3] = inv_translation_vector\n",
    "    \n",
    "    return inv_matrix\n",
    "\n",
    "def transform_point_cloud(point_cloud, transformation_matrix, downsample=1.0):\n",
    "    if downsample < 1.0:\n",
    "        indices = np.arange(0, point_cloud.shape[0], int(1.0 / downsample))\n",
    "        point_cloud = point_cloud[indices]\n",
    "\n",
    "    rotated_points = np.dot(point_cloud, transformation_matrix[:3, :3].T)\n",
    "    transformed_points = rotated_points + transformation_matrix[:3, 3]\n",
    "\n",
    "    return transformed_points\n",
    "\n",
    "def icp_known_correspondences(T, pcd):\n",
    "    P1_np = pcd\n",
    "    P2_np = transform_point_cloud(pcd,T)\n",
    "\n",
    "    # Calculate centre of Mass for P1, P2\n",
    "    centre_mass_P1 = centre_of_mass_func(P1_np)\n",
    "    centre_mass_P2 = centre_of_mass_func(P2_np)\n",
    "\n",
    "    # Normalisation of P1 and P2\n",
    "    P1_norm = P1_np - centre_mass_P1\n",
    "    P2_norm = P2_np - centre_mass_P2\n",
    "\n",
    "    # Cross-Covariance Matrix\n",
    "    W = P1_norm.T @ P2_norm\n",
    "\n",
    "    # SVD\n",
    "    U,D,Vt = np.linalg.svd(W)\n",
    "\n",
    "    # Rotational Matrix and Translation Matrix\n",
    "    R = U @ Vt\n",
    "    t = centre_mass_P1 - (R @ centre_mass_P2)\n",
    "    t = np.expand_dims(t, axis=-1)\n",
    "\n",
    "    T = np.eye(4)\n",
    "    T[:3, :3] = R\n",
    "    T[:3, 3:] = t\n",
    "\n",
    "    return T \n",
    "\n",
    "# CODE \n",
    "T = getTransform()\n",
    "point_cloud_path = \"data/toothless.ply\"\n",
    "pcd = o3d.io.read_point_cloud(point_cloud_path)\n",
    "transform_matrix = icp_known_correspondences(T, transform_point_cloud(np.array(pcd.points),np.eye(4),0.001))\n",
    "print(\"Expected Transform:\")\n",
    "print(np.array_str(np.array(invert_transform(T)), precision=2, suppress_small=True))\n",
    "print(\"Calculated Transform:\")\n",
    "print(np.array_str(np.array(transform_matrix), precision=2, suppress_small=True))\n"
   ]
  },
  {
   "cell_type": "markdown",
   "metadata": {},
   "source": [
    "### 1.2 Implement ICP algorithm with unknown correspondences. (5 Points)"
   ]
  },
  {
   "cell_type": "markdown",
   "metadata": {},
   "source": [
    "Your task is to write a function that implements ICP and takes two point clouds as input wherein the correspondances are unknown. Visualize the pointclouds and plot their individual coordinate frames as you perform ICP over them. Compute the alignment error in each iteration. \n",
    "\n",
    "Refer to Shubodh's notes to compute correspondences: https://saishubodh.notion.site/Mobile-Robotics-Navigating-from-Theory-to-Application-0b65a9c20edd4081978f4ffad917febb?p=a25686ce1a11409d838d47bcac43ab4b&pm=s#bb9aaf2e316b4db3b399df1742f0444c\n"
   ]
  },
  {
   "cell_type": "code",
   "execution_count": 6,
   "metadata": {},
   "outputs": [],
   "source": [
    "def correspondence_func(P, Q):\n",
    "    tree = cKDTree(Q)\n",
    "\n",
    "    # Query the nearest neighbor for each point in P\n",
    "    distances, indices = tree.query(P)\n",
    "\n",
    "    Q_new = [Q[i] for i in indices]\n",
    "    Q_new = np.asarray(Q_new)\n",
    "\n",
    "    return P, Q_new \n",
    "\n",
    "# Define the error function for point-to-point ICP\n",
    "def icp_error_function(source_points, target_points, R, t):\n",
    "    # Apply the transformation to the source points\n",
    "    transformed_points = np.dot(source_points, R.T) + t\n",
    "\n",
    "    # Compute the Euclidean distances between transformed source points and target points\n",
    "    distances = np.linalg.norm(transformed_points - target_points, axis=1)\n",
    "\n",
    "    # Compute the sum of squared distances (or mean squared error)\n",
    "    error = np.sum(distances ** 2)\n",
    "    \n",
    "    return error"
   ]
  },
  {
   "cell_type": "code",
   "execution_count": 16,
   "metadata": {},
   "outputs": [
    {
     "ename": "NameError",
     "evalue": "name 'transform_transform_matrixmatrix' is not defined",
     "output_type": "error",
     "traceback": [
      "\u001b[0;31m---------------------------------------------------------------------------\u001b[0m",
      "\u001b[0;31mNameError\u001b[0m                                 Traceback (most recent call last)",
      "Cell \u001b[0;32mIn[16], line 37\u001b[0m\n\u001b[1;32m     35\u001b[0m transform_matrix \u001b[38;5;241m=\u001b[39m np\u001b[38;5;241m.\u001b[39meye(\u001b[38;5;241m4\u001b[39m)\n\u001b[1;32m     36\u001b[0m \u001b[38;5;28;01mwhile\u001b[39;00m(error\u001b[38;5;241m>\u001b[39m\u001b[38;5;241m1e4\u001b[39m):\n\u001b[0;32m---> 37\u001b[0m     P \u001b[38;5;241m=\u001b[39m transform_point_cloud(np\u001b[38;5;241m.\u001b[39marray(pcd\u001b[38;5;241m.\u001b[39mpoints),\u001b[43mtransform_transform_matrixmatrix\u001b[49m\u001b[38;5;129m@T1\u001b[39m,\u001b[38;5;241m0.001\u001b[39m)\n\u001b[1;32m     38\u001b[0m     Q \u001b[38;5;241m=\u001b[39m transform_point_cloud(np\u001b[38;5;241m.\u001b[39marray(pcd\u001b[38;5;241m.\u001b[39mpoints),T2,\u001b[38;5;241m0.001\u001b[39m)\n\u001b[1;32m     39\u001b[0m     transform_matrix \u001b[38;5;241m=\u001b[39m icp_unknown_correspondences(P,Q)\n",
      "\u001b[0;31mNameError\u001b[0m: name 'transform_transform_matrixmatrix' is not defined"
     ]
    }
   ],
   "source": [
    "T1 = getTransform()\n",
    "T2 = getTransform()\n",
    "T3 = getTransform()\n",
    "\n",
    "def icp_unknown_correspondences(P, Q):\n",
    "    #### YOUR CODE HERE ####\n",
    "    # Let assume Q: Destination point cloud and P: Source point cloud\n",
    "\n",
    "    P, Q_new = correspondence_func(P, Q)\n",
    "    \n",
    "    # Calculate centre of Mass for P1, P2\n",
    "    centre_mass_P1 = centre_of_mass_func(P)\n",
    "    centre_mass_P2 = centre_of_mass_func(Q_new)\n",
    "\n",
    "    # Normalisation of P1 and P2\n",
    "    P1_norm = P - centre_mass_P1\n",
    "    P2_norm = Q_new - centre_mass_P2\n",
    "\n",
    "    # Cross-Covariance Matrix\n",
    "    W = P1_norm.T @ P2_norm\n",
    "\n",
    "    # SVD\n",
    "    U,D,Vt = np.linalg.svd(W)\n",
    "\n",
    "    # Rotational Matrix and Translation Matrix\n",
    "    R = U @ Vt\n",
    "    t = centre_mass_P1 - (R @ centre_mass_P2)\n",
    "    t = np.expand_dims(t, axis=-1)\n",
    "\n",
    "    T = np.eye(4)\n",
    "    T[:3, :3] = R\n",
    "    T[:3, 3:] = t\n",
    "\n",
    "    return T \n",
    "transform_matrix = np.eye(4)\n",
    "while(error>1e4):\n",
    "    P = transform_point_cloud(np.array(pcd.points),transform_matrix@T1,0.001)\n",
    "    Q = transform_point_cloud(np.array(pcd.points),T2,0.001)\n",
    "    transform_matrix = icp_unknown_correspondences(P,Q)\n",
    "    error = icp_error_function(P, Q, transform_matrix[0:3, 0:3], transform_matrix[0:3, 3])\n",
    "    print(error)\n",
    "\n",
    "expected_transform = T1 @ invert_transform(T2)\n",
    "print(np.array_str(np.array(expected_transform), precision=2, suppress_small=True))\n",
    "error = icp_error_function(P, Q, transform_matrix[0:3, 0:3], transform_matrix[0:3, 3])\n",
    "print(np.array_str(np.array(transform_matrix), precision=2, suppress_small=True))\n",
    "print(error)"
   ]
  },
  {
   "cell_type": "markdown",
   "metadata": {},
   "source": [
    "## SECTION 2: ICP with Lie Groups"
   ]
  },
  {
   "cell_type": "markdown",
   "metadata": {},
   "source": [
    "### 2.1 Predict the Transformation matrix between 2 point clouds with known correspondences (15 Points)\n",
    "Perform the same task as 1.1 using Lie Group Optimization from scratch to predict the transformation between the 2 point clouds.\n",
    "\n",
    "Refer: https://saishubodh.notion.site/Mobile-Robotics-Navigating-from-Theory-to-Application-0b65a9c20edd4081978f4ffad917febb?p=ee55fe5689794693910ab7861bef067b&pm=s#7b82d84766a84b63b91d859579e4886b\n"
   ]
  },
  {
   "cell_type": "code",
   "execution_count": 8,
   "metadata": {},
   "outputs": [],
   "source": [
    "T = getTransform()\n",
    "def icp_with_lie(T):\n",
    "    #### YOUR CODE HERE ####\n",
    "    pass"
   ]
  },
  {
   "cell_type": "markdown",
   "metadata": {},
   "source": [
    "## SECTION 3: Pose Graph Optimization with G2O\n",
    "### Objective (5 Points)\n",
    "A robot is travelling in a oval trajectory. It is equipped with wheel odometry for odometry information and RGBD sensors for loop closure information. Due to noise in wheel odometry it generates a noisy estimate of the trajectory. Our task is to use loop closure pairs to correct the drift.\n",
    "\n",
    "We pose this problem as a pose graph optimization problem. In our graph, poses are the vertices and constraints are the edges. \n",
    "\n",
    "References:\n",
    "\n",
    "1.) Class notes: https://saishubodh.notion.site/G2O-Edge-Types-d9f9ff63c77c4ceeb84b1e49085004e3\n",
    "\n",
    "2.) Cyrill Stachniss lecture: https://www.youtube.com/watch?v=uHbRKvD8TWg "
   ]
  },
  {
   "cell_type": "markdown",
   "metadata": {},
   "source": [
    "### Given: \n",
    "In practical scenarios, we'd obtain the following from our sensors after some post-processing:\n",
    "\n",
    "1. Initial position\n",
    "2. Odometry Contraints/Edges: This \"edge\" information tells us relative transformation between two nodes. These two nodes are consecutive in the case of Odometry but not in the case of Loop Closure (next point).\n",
    "3. Loop Closure Contraints/Edges: Remember that while optimizing, you have another kind of \"anchor\" edge as you've seen in 1. solved example.\n",
    "\n",
    "You have been given a text file named `edges.txt` (in `data/`) which has all the above 3 and it follows G2O's format (as explained in class, [link here](https://saishubodh.notion.site/G2O-Edge-Types-d9f9ff63c77c4ceeb84b1e49085004e3) ). The ground truth is `gt.txt`.\n",
    "\n",
    "Install g2o as mentioned in `g2o.ipynb` and optimise `edges.txt`"
   ]
  },
  {
   "cell_type": "code",
   "execution_count": 9,
   "metadata": {},
   "outputs": [],
   "source": [
    "### YOUR CODE HERE ###"
   ]
  },
  {
   "cell_type": "markdown",
   "metadata": {},
   "source": [
    "### Evo (10 Points)\n",
    "We need a measure of how good the trajectory is. The error/loss used earlier doesn't tell us much about how the trajectory differs from the ground truth. Here, we try to do just this - compute error metrics. Rather than computing these from scratch, we will just Evo - https://github.com/MichaelGrupp/evo/.\n",
    "\n",
    "Look at the absolute pose error (APE) and relative pose error (RPE). What do they capture and how are they calculated (descriptive answer)? How do these metrics differ in methodology? Can we determine if the error is more along the x/y axis?\n",
    "\n",
    "Answer the above questions and report errors for the obtained trajectory."
   ]
  },
  {
   "cell_type": "code",
   "execution_count": 10,
   "metadata": {},
   "outputs": [],
   "source": [
    "### YOUR CODE HERE ###"
   ]
  }
 ],
 "metadata": {
  "kernelspec": {
   "display_name": "mapfree",
   "language": "python",
   "name": "python3"
  },
  "language_info": {
   "codemirror_mode": {
    "name": "ipython",
    "version": 3
   },
   "file_extension": ".py",
   "mimetype": "text/x-python",
   "name": "python",
   "nbconvert_exporter": "python",
   "pygments_lexer": "ipython3",
   "version": "3.11.9"
  }
 },
 "nbformat": 4,
 "nbformat_minor": 2
}
